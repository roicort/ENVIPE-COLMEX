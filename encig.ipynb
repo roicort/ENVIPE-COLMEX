{
 "cells": [
  {
   "cell_type": "markdown",
   "id": "6645e597",
   "metadata": {},
   "source": [
    "# ENCIG: 2023"
   ]
  },
  {
   "cell_type": "code",
   "execution_count": 59,
   "id": "16932e04",
   "metadata": {},
   "outputs": [],
   "source": [
    "import pandas as pd\n",
    "import plotly.express as px"
   ]
  },
  {
   "cell_type": "markdown",
   "id": "2a378c46",
   "metadata": {},
   "source": [
    "### P3_3_01: Percepción de frecuencia de corrupción en las universidades públicas"
   ]
  },
  {
   "cell_type": "code",
   "execution_count": 54,
   "id": "07ab56dd",
   "metadata": {},
   "outputs": [],
   "source": [
    "df = pd.read_csv('ENCIG/data/encig2023_01_sec1_A_3_4_5_8_9_10.csv', index_col=0)"
   ]
  },
  {
   "cell_type": "code",
   "execution_count": 55,
   "id": "57a404de",
   "metadata": {},
   "outputs": [
    {
     "data": {
      "application/vnd.microsoft.datawrangler.viewer.v0+json": {
       "columns": [
        {
         "name": "index",
         "rawType": "int64",
         "type": "integer"
        },
        {
         "name": "ID_PER",
         "rawType": "object",
         "type": "string"
        },
        {
         "name": "ID_VIV",
         "rawType": "object",
         "type": "string"
        },
        {
         "name": "CVE_ENT",
         "rawType": "int64",
         "type": "integer"
        },
        {
         "name": "NOM_ENT",
         "rawType": "object",
         "type": "string"
        },
        {
         "name": "CVE_MUN",
         "rawType": "int64",
         "type": "integer"
        },
        {
         "name": "NOM_MUN",
         "rawType": "object",
         "type": "string"
        },
        {
         "name": "AREAM",
         "rawType": "int64",
         "type": "integer"
        },
        {
         "name": "NOM_AREAM",
         "rawType": "object",
         "type": "string"
        },
        {
         "name": "UPM",
         "rawType": "int64",
         "type": "integer"
        },
        {
         "name": "PRO_VIV",
         "rawType": "int64",
         "type": "integer"
        },
        {
         "name": "V_SEL",
         "rawType": "int64",
         "type": "integer"
        },
        {
         "name": "R_ELE",
         "rawType": "int64",
         "type": "integer"
        },
        {
         "name": "R_INF",
         "rawType": "int64",
         "type": "integer"
        },
        {
         "name": "R_DEF",
         "rawType": "int64",
         "type": "integer"
        },
        {
         "name": "FECHA_CAPT",
         "rawType": "int64",
         "type": "integer"
        },
        {
         "name": "P1_1",
         "rawType": "int64",
         "type": "integer"
        },
        {
         "name": "P1_2",
         "rawType": "float64",
         "type": "float"
        },
        {
         "name": "P1_3",
         "rawType": "float64",
         "type": "float"
        },
        {
         "name": "P1_4",
         "rawType": "float64",
         "type": "float"
        },
        {
         "name": "A1_1",
         "rawType": "int64",
         "type": "integer"
        },
        {
         "name": "A1_2",
         "rawType": "int64",
         "type": "integer"
        },
        {
         "name": "A1_3",
         "rawType": "int64",
         "type": "integer"
        },
        {
         "name": "A1_4",
         "rawType": "int64",
         "type": "integer"
        },
        {
         "name": "A1_5",
         "rawType": "int64",
         "type": "integer"
        },
        {
         "name": "A1_6",
         "rawType": "int64",
         "type": "integer"
        },
        {
         "name": "A1_7",
         "rawType": "int64",
         "type": "integer"
        },
        {
         "name": "P3_1_01",
         "rawType": "int64",
         "type": "integer"
        },
        {
         "name": "P3_1_02",
         "rawType": "int64",
         "type": "integer"
        },
        {
         "name": "P3_1_03",
         "rawType": "int64",
         "type": "integer"
        },
        {
         "name": "P3_1_04",
         "rawType": "int64",
         "type": "integer"
        },
        {
         "name": "P3_1_05",
         "rawType": "int64",
         "type": "integer"
        },
        {
         "name": "P3_1_06",
         "rawType": "int64",
         "type": "integer"
        },
        {
         "name": "P3_1_07",
         "rawType": "int64",
         "type": "integer"
        },
        {
         "name": "P3_1_08",
         "rawType": "int64",
         "type": "integer"
        },
        {
         "name": "P3_1_09",
         "rawType": "int64",
         "type": "integer"
        },
        {
         "name": "P3_1_10",
         "rawType": "int64",
         "type": "integer"
        },
        {
         "name": "P3_1_11",
         "rawType": "int64",
         "type": "integer"
        },
        {
         "name": "P3_1_99",
         "rawType": "int64",
         "type": "integer"
        },
        {
         "name": "P3_2",
         "rawType": "int64",
         "type": "integer"
        },
        {
         "name": "P3_3_01",
         "rawType": "int64",
         "type": "integer"
        },
        {
         "name": "P3_3_02",
         "rawType": "int64",
         "type": "integer"
        },
        {
         "name": "P3_3_03",
         "rawType": "int64",
         "type": "integer"
        },
        {
         "name": "P3_3_04",
         "rawType": "int64",
         "type": "integer"
        },
        {
         "name": "P3_3_05",
         "rawType": "int64",
         "type": "integer"
        },
        {
         "name": "P3_3_06",
         "rawType": "int64",
         "type": "integer"
        },
        {
         "name": "P3_3_07",
         "rawType": "int64",
         "type": "integer"
        },
        {
         "name": "P3_3_08",
         "rawType": "int64",
         "type": "integer"
        },
        {
         "name": "P3_3_09",
         "rawType": "int64",
         "type": "integer"
        },
        {
         "name": "P3_3_10",
         "rawType": "int64",
         "type": "integer"
        },
        {
         "name": "P3_3_11",
         "rawType": "int64",
         "type": "integer"
        },
        {
         "name": "P3_3_12",
         "rawType": "int64",
         "type": "integer"
        },
        {
         "name": "P3_3_13",
         "rawType": "int64",
         "type": "integer"
        },
        {
         "name": "P3_3_14",
         "rawType": "int64",
         "type": "integer"
        },
        {
         "name": "P3_3_15",
         "rawType": "int64",
         "type": "integer"
        },
        {
         "name": "P3_3_16",
         "rawType": "int64",
         "type": "integer"
        },
        {
         "name": "P3_3_17",
         "rawType": "int64",
         "type": "integer"
        },
        {
         "name": "P3_3_18",
         "rawType": "int64",
         "type": "integer"
        },
        {
         "name": "P3_3_19",
         "rawType": "int64",
         "type": "integer"
        },
        {
         "name": "P3_3_20",
         "rawType": "int64",
         "type": "integer"
        },
        {
         "name": "P3_3_21",
         "rawType": "int64",
         "type": "integer"
        },
        {
         "name": "P3_3_22",
         "rawType": "int64",
         "type": "integer"
        },
        {
         "name": "P3_3_23",
         "rawType": "int64",
         "type": "integer"
        },
        {
         "name": "P3_3_24",
         "rawType": "int64",
         "type": "integer"
        },
        {
         "name": "P4_1_1",
         "rawType": "int64",
         "type": "integer"
        },
        {
         "name": "P4_1_2",
         "rawType": "int64",
         "type": "integer"
        },
        {
         "name": "P4_1_3",
         "rawType": "int64",
         "type": "integer"
        },
        {
         "name": "P4_1_4",
         "rawType": "int64",
         "type": "integer"
        },
        {
         "name": "P4_1_5",
         "rawType": "int64",
         "type": "integer"
        },
        {
         "name": "P4_1_6",
         "rawType": "int64",
         "type": "integer"
        },
        {
         "name": "P4_1_7",
         "rawType": "int64",
         "type": "integer"
        },
        {
         "name": "P4_1A",
         "rawType": "float64",
         "type": "float"
        },
        {
         "name": "P4_1B",
         "rawType": "float64",
         "type": "float"
        },
        {
         "name": "P4_2_1",
         "rawType": "int64",
         "type": "integer"
        },
        {
         "name": "P4_2_2",
         "rawType": "int64",
         "type": "integer"
        },
        {
         "name": "P4_2_3",
         "rawType": "int64",
         "type": "integer"
        },
        {
         "name": "P4_2_4",
         "rawType": "int64",
         "type": "integer"
        },
        {
         "name": "P4_2A",
         "rawType": "float64",
         "type": "float"
        },
        {
         "name": "P4_2B",
         "rawType": "float64",
         "type": "float"
        },
        {
         "name": "P4_3_1",
         "rawType": "int64",
         "type": "integer"
        },
        {
         "name": "P4_3_2",
         "rawType": "int64",
         "type": "integer"
        },
        {
         "name": "P4_3_3",
         "rawType": "int64",
         "type": "integer"
        },
        {
         "name": "P4_3A",
         "rawType": "float64",
         "type": "float"
        },
        {
         "name": "P4_3B",
         "rawType": "float64",
         "type": "float"
        },
        {
         "name": "P4_4_1",
         "rawType": "int64",
         "type": "integer"
        },
        {
         "name": "P4_4_2",
         "rawType": "int64",
         "type": "integer"
        },
        {
         "name": "P4_4_3",
         "rawType": "int64",
         "type": "integer"
        },
        {
         "name": "P4_4_4",
         "rawType": "int64",
         "type": "integer"
        },
        {
         "name": "P4_4A",
         "rawType": "float64",
         "type": "float"
        },
        {
         "name": "P4_4B",
         "rawType": "float64",
         "type": "float"
        },
        {
         "name": "P4_5_1",
         "rawType": "int64",
         "type": "integer"
        },
        {
         "name": "P4_5_2",
         "rawType": "int64",
         "type": "integer"
        },
        {
         "name": "P4_5_2_ESP",
         "rawType": "float64",
         "type": "float"
        },
        {
         "name": "P4_5_2_TXT",
         "rawType": "object",
         "type": "string"
        },
        {
         "name": "P4_5_3",
         "rawType": "int64",
         "type": "integer"
        },
        {
         "name": "P4_5A",
         "rawType": "float64",
         "type": "float"
        },
        {
         "name": "P4_5B",
         "rawType": "float64",
         "type": "float"
        },
        {
         "name": "P4_6_1",
         "rawType": "int64",
         "type": "integer"
        },
        {
         "name": "P4_6_2",
         "rawType": "int64",
         "type": "integer"
        },
        {
         "name": "P4_6A",
         "rawType": "float64",
         "type": "float"
        },
        {
         "name": "P4_6B",
         "rawType": "float64",
         "type": "float"
        },
        {
         "name": "P4_7_1",
         "rawType": "int64",
         "type": "integer"
        },
        {
         "name": "P4_7_2",
         "rawType": "int64",
         "type": "integer"
        },
        {
         "name": "P4_7_3",
         "rawType": "int64",
         "type": "integer"
        },
        {
         "name": "P4_7_4",
         "rawType": "int64",
         "type": "integer"
        },
        {
         "name": "P4_7A",
         "rawType": "float64",
         "type": "float"
        },
        {
         "name": "P4_7B",
         "rawType": "float64",
         "type": "float"
        },
        {
         "name": "P4_8_1",
         "rawType": "int64",
         "type": "integer"
        },
        {
         "name": "P4_8_2",
         "rawType": "int64",
         "type": "integer"
        },
        {
         "name": "P4_8_3",
         "rawType": "int64",
         "type": "integer"
        },
        {
         "name": "P4_8_4",
         "rawType": "int64",
         "type": "integer"
        },
        {
         "name": "P4_8A",
         "rawType": "float64",
         "type": "float"
        },
        {
         "name": "P4_8B",
         "rawType": "float64",
         "type": "float"
        },
        {
         "name": "P5_1_01",
         "rawType": "int64",
         "type": "integer"
        },
        {
         "name": "P5_1_02",
         "rawType": "int64",
         "type": "integer"
        },
        {
         "name": "P5_1_03",
         "rawType": "int64",
         "type": "integer"
        },
        {
         "name": "P5_1_04",
         "rawType": "int64",
         "type": "integer"
        },
        {
         "name": "P5_1_05",
         "rawType": "int64",
         "type": "integer"
        },
        {
         "name": "P5_1_06",
         "rawType": "int64",
         "type": "integer"
        },
        {
         "name": "P5_1_07",
         "rawType": "int64",
         "type": "integer"
        },
        {
         "name": "P5_1_08",
         "rawType": "int64",
         "type": "integer"
        },
        {
         "name": "P5_1_09",
         "rawType": "float64",
         "type": "float"
        },
        {
         "name": "P5_1_10",
         "rawType": "float64",
         "type": "float"
        },
        {
         "name": "P5_1_11",
         "rawType": "float64",
         "type": "float"
        },
        {
         "name": "P5_1_12",
         "rawType": "int64",
         "type": "integer"
        },
        {
         "name": "P5_2_1",
         "rawType": "float64",
         "type": "float"
        },
        {
         "name": "P5_2_2",
         "rawType": "float64",
         "type": "float"
        },
        {
         "name": "P5_2_3",
         "rawType": "float64",
         "type": "float"
        },
        {
         "name": "P5_2_4",
         "rawType": "float64",
         "type": "float"
        },
        {
         "name": "P5_2_5",
         "rawType": "float64",
         "type": "float"
        },
        {
         "name": "P5_2_6",
         "rawType": "float64",
         "type": "float"
        },
        {
         "name": "P5_2_7",
         "rawType": "float64",
         "type": "float"
        },
        {
         "name": "P5_2_8",
         "rawType": "float64",
         "type": "float"
        },
        {
         "name": "P5_2_9",
         "rawType": "float64",
         "type": "float"
        },
        {
         "name": "P5_2A",
         "rawType": "float64",
         "type": "float"
        },
        {
         "name": "P5_2B",
         "rawType": "float64",
         "type": "float"
        },
        {
         "name": "P5_3_1",
         "rawType": "float64",
         "type": "float"
        },
        {
         "name": "P5_3_2",
         "rawType": "float64",
         "type": "float"
        },
        {
         "name": "P5_3_3",
         "rawType": "float64",
         "type": "float"
        },
        {
         "name": "P5_3_4",
         "rawType": "float64",
         "type": "float"
        },
        {
         "name": "P5_3_5",
         "rawType": "float64",
         "type": "float"
        },
        {
         "name": "P5_3_6",
         "rawType": "float64",
         "type": "float"
        },
        {
         "name": "P5_3_7",
         "rawType": "float64",
         "type": "float"
        },
        {
         "name": "P5_3_8",
         "rawType": "float64",
         "type": "float"
        },
        {
         "name": "P5_3A",
         "rawType": "float64",
         "type": "float"
        },
        {
         "name": "P5_3B",
         "rawType": "float64",
         "type": "float"
        },
        {
         "name": "P5_4_01",
         "rawType": "float64",
         "type": "float"
        },
        {
         "name": "P5_4_02",
         "rawType": "float64",
         "type": "float"
        },
        {
         "name": "P5_4_03",
         "rawType": "float64",
         "type": "float"
        },
        {
         "name": "P5_4_04",
         "rawType": "float64",
         "type": "float"
        },
        {
         "name": "P5_4_05",
         "rawType": "float64",
         "type": "float"
        },
        {
         "name": "P5_4_06",
         "rawType": "float64",
         "type": "float"
        },
        {
         "name": "P5_4_07",
         "rawType": "float64",
         "type": "float"
        },
        {
         "name": "P5_4_08",
         "rawType": "float64",
         "type": "float"
        },
        {
         "name": "P5_4_09",
         "rawType": "float64",
         "type": "float"
        },
        {
         "name": "P5_4_10",
         "rawType": "float64",
         "type": "float"
        },
        {
         "name": "P5_4_11",
         "rawType": "float64",
         "type": "float"
        },
        {
         "name": "P5_4A",
         "rawType": "float64",
         "type": "float"
        },
        {
         "name": "P5_4B",
         "rawType": "float64",
         "type": "float"
        },
        {
         "name": "P5_5_01",
         "rawType": "float64",
         "type": "float"
        },
        {
         "name": "P5_5_02",
         "rawType": "float64",
         "type": "float"
        },
        {
         "name": "P5_5_03",
         "rawType": "float64",
         "type": "float"
        },
        {
         "name": "P5_5_04",
         "rawType": "float64",
         "type": "float"
        },
        {
         "name": "P5_5_05",
         "rawType": "float64",
         "type": "float"
        },
        {
         "name": "P5_5_06",
         "rawType": "float64",
         "type": "float"
        },
        {
         "name": "P5_5_07",
         "rawType": "float64",
         "type": "float"
        },
        {
         "name": "P5_5_08",
         "rawType": "float64",
         "type": "float"
        },
        {
         "name": "P5_5_09",
         "rawType": "float64",
         "type": "float"
        },
        {
         "name": "P5_5_10",
         "rawType": "float64",
         "type": "float"
        },
        {
         "name": "P5_5_11",
         "rawType": "float64",
         "type": "float"
        },
        {
         "name": "P5_5A",
         "rawType": "float64",
         "type": "float"
        },
        {
         "name": "P5_5B",
         "rawType": "float64",
         "type": "float"
        },
        {
         "name": "P5_6_01",
         "rawType": "float64",
         "type": "float"
        },
        {
         "name": "P5_6_02",
         "rawType": "float64",
         "type": "float"
        },
        {
         "name": "P5_6_03",
         "rawType": "float64",
         "type": "float"
        },
        {
         "name": "P5_6_04",
         "rawType": "float64",
         "type": "float"
        },
        {
         "name": "P5_6_05",
         "rawType": "float64",
         "type": "float"
        },
        {
         "name": "P5_6_06",
         "rawType": "float64",
         "type": "float"
        },
        {
         "name": "P5_6_07",
         "rawType": "float64",
         "type": "float"
        },
        {
         "name": "P5_6_08",
         "rawType": "float64",
         "type": "float"
        },
        {
         "name": "P5_6_09",
         "rawType": "float64",
         "type": "float"
        },
        {
         "name": "P5_6_10",
         "rawType": "float64",
         "type": "float"
        },
        {
         "name": "P5_6_11",
         "rawType": "float64",
         "type": "float"
        },
        {
         "name": "P5_6A",
         "rawType": "float64",
         "type": "float"
        },
        {
         "name": "P5_6B",
         "rawType": "float64",
         "type": "float"
        },
        {
         "name": "P5_7_01",
         "rawType": "float64",
         "type": "float"
        },
        {
         "name": "P5_7_02",
         "rawType": "float64",
         "type": "float"
        },
        {
         "name": "P5_7_03",
         "rawType": "float64",
         "type": "float"
        },
        {
         "name": "P5_7_04",
         "rawType": "float64",
         "type": "float"
        },
        {
         "name": "P5_7_05",
         "rawType": "float64",
         "type": "float"
        },
        {
         "name": "P5_7_06",
         "rawType": "float64",
         "type": "float"
        },
        {
         "name": "P5_7_07",
         "rawType": "float64",
         "type": "float"
        },
        {
         "name": "P5_7_08",
         "rawType": "float64",
         "type": "float"
        },
        {
         "name": "P5_7_09",
         "rawType": "float64",
         "type": "float"
        },
        {
         "name": "P5_7_10",
         "rawType": "float64",
         "type": "float"
        },
        {
         "name": "P5_7_11",
         "rawType": "float64",
         "type": "float"
        },
        {
         "name": "P5_7A",
         "rawType": "float64",
         "type": "float"
        },
        {
         "name": "P5_7B",
         "rawType": "float64",
         "type": "float"
        },
        {
         "name": "P5_8_1",
         "rawType": "float64",
         "type": "float"
        },
        {
         "name": "P5_8_2",
         "rawType": "float64",
         "type": "float"
        },
        {
         "name": "P5_8_3",
         "rawType": "float64",
         "type": "float"
        },
        {
         "name": "P5_8A",
         "rawType": "float64",
         "type": "float"
        },
        {
         "name": "P5_8B",
         "rawType": "float64",
         "type": "float"
        },
        {
         "name": "P5_9_1",
         "rawType": "float64",
         "type": "float"
        },
        {
         "name": "P5_9_2",
         "rawType": "float64",
         "type": "float"
        },
        {
         "name": "P5_9_3",
         "rawType": "float64",
         "type": "float"
        },
        {
         "name": "P5_9_4",
         "rawType": "float64",
         "type": "float"
        },
        {
         "name": "P5_9_5",
         "rawType": "float64",
         "type": "float"
        },
        {
         "name": "P5_9_6",
         "rawType": "float64",
         "type": "float"
        },
        {
         "name": "P5_9_7",
         "rawType": "float64",
         "type": "float"
        },
        {
         "name": "P5_9_8",
         "rawType": "float64",
         "type": "float"
        },
        {
         "name": "P5_9A",
         "rawType": "float64",
         "type": "float"
        },
        {
         "name": "P5_9B",
         "rawType": "float64",
         "type": "float"
        },
        {
         "name": "P5_10_1",
         "rawType": "float64",
         "type": "float"
        },
        {
         "name": "P5_10_2",
         "rawType": "float64",
         "type": "float"
        },
        {
         "name": "P5_10_3",
         "rawType": "float64",
         "type": "float"
        },
        {
         "name": "P5_10_4",
         "rawType": "float64",
         "type": "float"
        },
        {
         "name": "P5_10_5",
         "rawType": "float64",
         "type": "float"
        },
        {
         "name": "P5_10_6",
         "rawType": "float64",
         "type": "float"
        },
        {
         "name": "P5_10_7",
         "rawType": "float64",
         "type": "float"
        },
        {
         "name": "P5_10_8",
         "rawType": "float64",
         "type": "float"
        },
        {
         "name": "P5_10A",
         "rawType": "float64",
         "type": "float"
        },
        {
         "name": "P5_10B",
         "rawType": "float64",
         "type": "float"
        },
        {
         "name": "P5_11_1",
         "rawType": "float64",
         "type": "float"
        },
        {
         "name": "P5_11_2",
         "rawType": "float64",
         "type": "float"
        },
        {
         "name": "P5_11_3",
         "rawType": "float64",
         "type": "float"
        },
        {
         "name": "P5_11_4",
         "rawType": "float64",
         "type": "float"
        },
        {
         "name": "P5_11_5",
         "rawType": "float64",
         "type": "float"
        },
        {
         "name": "P5_11_6",
         "rawType": "float64",
         "type": "float"
        },
        {
         "name": "P5_11_7",
         "rawType": "float64",
         "type": "float"
        },
        {
         "name": "P5_11_8",
         "rawType": "float64",
         "type": "float"
        },
        {
         "name": "P5_11A",
         "rawType": "float64",
         "type": "float"
        },
        {
         "name": "P5_11B",
         "rawType": "float64",
         "type": "float"
        },
        {
         "name": "P5_12_1",
         "rawType": "float64",
         "type": "float"
        },
        {
         "name": "P5_12_2",
         "rawType": "float64",
         "type": "float"
        },
        {
         "name": "P5_12_3",
         "rawType": "float64",
         "type": "float"
        },
        {
         "name": "P5_12_4",
         "rawType": "float64",
         "type": "float"
        },
        {
         "name": "P5_12_5",
         "rawType": "float64",
         "type": "float"
        },
        {
         "name": "P5_12A",
         "rawType": "float64",
         "type": "float"
        },
        {
         "name": "P5_12B",
         "rawType": "float64",
         "type": "float"
        },
        {
         "name": "P5_13_1",
         "rawType": "float64",
         "type": "float"
        },
        {
         "name": "P5_13_2",
         "rawType": "float64",
         "type": "float"
        },
        {
         "name": "P5_13_3",
         "rawType": "float64",
         "type": "float"
        },
        {
         "name": "P5_13_4",
         "rawType": "float64",
         "type": "float"
        },
        {
         "name": "P5_13_5",
         "rawType": "float64",
         "type": "float"
        },
        {
         "name": "P5_13A",
         "rawType": "float64",
         "type": "float"
        },
        {
         "name": "P5_13B",
         "rawType": "float64",
         "type": "float"
        },
        {
         "name": "P8_1",
         "rawType": "int64",
         "type": "integer"
        },
        {
         "name": "P8_2",
         "rawType": "int64",
         "type": "integer"
        },
        {
         "name": "P8_3_1",
         "rawType": "int64",
         "type": "integer"
        },
        {
         "name": "P8_3_2",
         "rawType": "int64",
         "type": "integer"
        },
        {
         "name": "P8_3_3",
         "rawType": "int64",
         "type": "integer"
        },
        {
         "name": "P9_1",
         "rawType": "int64",
         "type": "integer"
        },
        {
         "name": "P9_7",
         "rawType": "int64",
         "type": "integer"
        },
        {
         "name": "P9_7_ESP",
         "rawType": "float64",
         "type": "float"
        },
        {
         "name": "P9_8",
         "rawType": "float64",
         "type": "float"
        },
        {
         "name": "P9_8_ESP",
         "rawType": "object",
         "type": "unknown"
        },
        {
         "name": "P10_1_1",
         "rawType": "int64",
         "type": "integer"
        },
        {
         "name": "P10_1_2",
         "rawType": "int64",
         "type": "integer"
        },
        {
         "name": "P10_1_3",
         "rawType": "int64",
         "type": "integer"
        },
        {
         "name": "P10_1_4",
         "rawType": "int64",
         "type": "integer"
        },
        {
         "name": "P10_1_5",
         "rawType": "int64",
         "type": "integer"
        },
        {
         "name": "P10_1_6",
         "rawType": "int64",
         "type": "integer"
        },
        {
         "name": "EST_DIS",
         "rawType": "int64",
         "type": "integer"
        },
        {
         "name": "UPM_DIS",
         "rawType": "int64",
         "type": "integer"
        },
        {
         "name": "EST",
         "rawType": "int64",
         "type": "integer"
        },
        {
         "name": "FAC_VIV",
         "rawType": "int64",
         "type": "integer"
        },
        {
         "name": "FAC_P18",
         "rawType": "int64",
         "type": "integer"
        }
       ],
       "ref": "f2957435-d34e-42a7-8632-f36c67a114ea",
       "rows": [
        [
         "1",
         "09.0900342.01.01",
         "09.0900342.01",
         "9",
         "CIUDAD DE MEXICO",
         "2",
         "AZCAPOTZALCO",
         "1",
         "CIUDAD DE MEXICO",
         "900342",
         "124",
         "1",
         "1",
         "1",
         "1",
         "16112023",
         "2",
         "1.0",
         null,
         null,
         "8",
         "8",
         "7",
         "7",
         "6",
         "8",
         "8",
         "0",
         "1",
         "1",
         "0",
         "0",
         "0",
         "0",
         "1",
         "0",
         "0",
         "0",
         "0",
         "2",
         "3",
         "2",
         "2",
         "1",
         "2",
         "2",
         "9",
         "1",
         "3",
         "2",
         "3",
         "2",
         "2",
         "1",
         "1",
         "2",
         "1",
         "2",
         "2",
         "3",
         "3",
         "2",
         "3",
         "2",
         "1",
         "1",
         "2",
         "2",
         "1",
         "2",
         "2",
         "3.0",
         "6.0",
         "1",
         "2",
         "2",
         "2",
         "4.0",
         "4.0",
         "1",
         "1",
         "1",
         "2.0",
         "8.0",
         "1",
         "2",
         "2",
         "2",
         "4.0",
         "4.0",
         "1",
         "1",
         "60.0",
         "SESENTA PESOS",
         "1",
         "2.0",
         "9.0",
         "1",
         "1",
         "3.0",
         "7.0",
         "2",
         "2",
         "1",
         "1",
         "4.0",
         "4.0",
         "2",
         "2",
         "1",
         "1",
         "4.0",
         "4.0",
         "2",
         "1",
         "2",
         "2",
         "2",
         "2",
         "1",
         "1",
         "1.0",
         "2.0",
         "2.0",
         "2",
         null,
         null,
         null,
         null,
         null,
         null,
         null,
         null,
         null,
         null,
         null,
         "2.0",
         "1.0",
         "2.0",
         "1.0",
         "2.0",
         "1.0",
         "1.0",
         "1.0",
         "4.0",
         "4.0",
         null,
         null,
         null,
         null,
         null,
         null,
         null,
         null,
         null,
         null,
         null,
         null,
         null,
         null,
         null,
         null,
         null,
         null,
         null,
         null,
         null,
         null,
         null,
         null,
         null,
         null,
         null,
         null,
         null,
         null,
         null,
         null,
         null,
         null,
         null,
         null,
         null,
         null,
         null,
         null,
         null,
         null,
         null,
         null,
         null,
         null,
         null,
         null,
         null,
         null,
         null,
         null,
         "1.0",
         "1.0",
         "1.0",
         "2.0",
         "9.0",
         "1.0",
         "1.0",
         "2.0",
         "2.0",
         "1.0",
         "1.0",
         "1.0",
         "1.0",
         "2.0",
         "9.0",
         "1.0",
         "1.0",
         "1.0",
         "2.0",
         "1.0",
         "1.0",
         "1.0",
         "1.0",
         "2.0",
         "9.0",
         null,
         null,
         null,
         null,
         null,
         null,
         null,
         null,
         null,
         null,
         null,
         null,
         null,
         null,
         null,
         null,
         null,
         null,
         null,
         null,
         null,
         null,
         null,
         null,
         "2",
         "1",
         "2",
         "2",
         "2",
         "2",
         "3",
         null,
         null,
         null,
         "2",
         "2",
         "1",
         "2",
         "1",
         "2",
         "85",
         "2146",
         "3",
         "659",
         "1317"
        ],
        [
         "2",
         "09.0900335.03.03",
         "09.0900335.03",
         "9",
         "CIUDAD DE MEXICO",
         "2",
         "AZCAPOTZALCO",
         "1",
         "CIUDAD DE MEXICO",
         "900335",
         "55",
         "3",
         "3",
         "1",
         "1",
         "18112023",
         "3",
         "1.0",
         null,
         null,
         "7",
         "10",
         "7",
         "7",
         "7",
         "6",
         "8",
         "0",
         "1",
         "1",
         "0",
         "1",
         "0",
         "0",
         "0",
         "0",
         "0",
         "0",
         "0",
         "2",
         "9",
         "2",
         "3",
         "2",
         "2",
         "3",
         "2",
         "2",
         "4",
         "3",
         "2",
         "2",
         "2",
         "3",
         "3",
         "2",
         "2",
         "2",
         "2",
         "9",
         "3",
         "2",
         "3",
         "3",
         "2",
         "1",
         "2",
         "2",
         "1",
         "2",
         "2",
         "4.0",
         "5.0",
         "1",
         "1",
         "1",
         "2",
         "2.0",
         "8.0",
         "2",
         "2",
         "2",
         "4.0",
         "4.0",
         "1",
         "1",
         "2",
         "2",
         "2.0",
         "8.0",
         "1",
         "1",
         "15.0",
         "QUINCE PESOS",
         "2",
         "2.0",
         "9.0",
         "1",
         "1",
         "2.0",
         "8.0",
         "2",
         "2",
         "1",
         "1",
         "2.0",
         "8.0",
         "1",
         "1",
         "1",
         "1",
         "2.0",
         "8.0",
         "2",
         "2",
         "1",
         "2",
         "2",
         "2",
         "1",
         "1",
         "1.0",
         "2.0",
         "1.0",
         "1",
         null,
         null,
         null,
         null,
         null,
         null,
         null,
         null,
         null,
         null,
         null,
         null,
         null,
         null,
         null,
         null,
         null,
         null,
         null,
         null,
         null,
         "1.0",
         "1.0",
         "1.0",
         "1.0",
         "1.0",
         "1.0",
         "1.0",
         "1.0",
         "1.0",
         "1.0",
         "2.0",
         "2.0",
         "9.0",
         null,
         null,
         null,
         null,
         null,
         null,
         null,
         null,
         null,
         null,
         null,
         null,
         null,
         null,
         null,
         null,
         null,
         null,
         null,
         null,
         null,
         null,
         null,
         null,
         null,
         null,
         null,
         null,
         null,
         null,
         null,
         null,
         null,
         null,
         null,
         null,
         null,
         null,
         null,
         "1.0",
         "1.0",
         "9.0",
         "2.0",
         "8.0",
         "2.0",
         "2.0",
         "2.0",
         "2.0",
         "1.0",
         "2.0",
         "2.0",
         "1.0",
         "3.0",
         "7.0",
         "1.0",
         "1.0",
         "1.0",
         "1.0",
         "1.0",
         "1.0",
         "1.0",
         "1.0",
         "2.0",
         "9.0",
         null,
         null,
         null,
         null,
         null,
         null,
         null,
         null,
         null,
         null,
         "2.0",
         "1.0",
         "2.0",
         "2.0",
         "2.0",
         "3.0",
         "7.0",
         "1.0",
         "1.0",
         "1.0",
         "1.0",
         "1.0",
         "2.0",
         "8.0",
         "2",
         "2",
         "2",
         "2",
         "2",
         "2",
         "3",
         null,
         null,
         null,
         "2",
         "2",
         "2",
         "2",
         "2",
         "2",
         "85",
         "2145",
         "3",
         "559",
         "1678"
        ],
        [
         "3",
         "09.0900335.04.01",
         "09.0900335.04",
         "9",
         "CIUDAD DE MEXICO",
         "2",
         "AZCAPOTZALCO",
         "1",
         "CIUDAD DE MEXICO",
         "900335",
         "73",
         "4",
         "1",
         "1",
         "1",
         "15112023",
         "5",
         "1.0",
         null,
         null,
         "10",
         "9",
         "9",
         "9",
         "10",
         "8",
         "5",
         "0",
         "0",
         "1",
         "0",
         "1",
         "1",
         "0",
         "0",
         "0",
         "0",
         "0",
         "0",
         "1",
         "1",
         "1",
         "3",
         "2",
         "2",
         "1",
         "3",
         "2",
         "3",
         "3",
         "4",
         "3",
         "1",
         "2",
         "3",
         "3",
         "3",
         "3",
         "3",
         "4",
         "4",
         "1",
         "3",
         "3",
         "1",
         "2",
         "2",
         "2",
         "1",
         "2",
         "2",
         "4.0",
         "5.0",
         "1",
         "2",
         "1",
         "2",
         "1.0",
         "10.0",
         "1",
         "1",
         "1",
         "2.0",
         "8.0",
         "1",
         "1",
         "2",
         "2",
         "5.0",
         "2.0",
         "1",
         "2",
         "35.0",
         "TREINTA Y CINCO PESOS",
         "1",
         "1.0",
         "10.0",
         "1",
         "1",
         "4.0",
         "5.0",
         "2",
         "1",
         "1",
         "2",
         "3.0",
         "7.0",
         "1",
         "1",
         "1",
         "1",
         "2.0",
         "9.0",
         "2",
         "2",
         "1",
         "2",
         "2",
         "2",
         "1",
         "1",
         "1.0",
         "1.0",
         "1.0",
         "2",
         null,
         null,
         null,
         null,
         null,
         null,
         null,
         null,
         null,
         null,
         null,
         null,
         null,
         null,
         null,
         null,
         null,
         null,
         null,
         null,
         null,
         "2.0",
         "1.0",
         "1.0",
         "1.0",
         "1.0",
         "1.0",
         "1.0",
         "1.0",
         "1.0",
         "1.0",
         "1.0",
         "2.0",
         "9.0",
         null,
         null,
         null,
         null,
         null,
         null,
         null,
         null,
         null,
         null,
         null,
         null,
         null,
         null,
         null,
         null,
         null,
         null,
         null,
         null,
         null,
         null,
         null,
         null,
         null,
         null,
         null,
         null,
         null,
         null,
         null,
         null,
         null,
         null,
         null,
         null,
         null,
         null,
         null,
         "1.0",
         "1.0",
         "1.0",
         "2.0",
         "9.0",
         "1.0",
         "1.0",
         "9.0",
         "2.0",
         "1.0",
         "2.0",
         "2.0",
         "1.0",
         "5.0",
         "3.0",
         "1.0",
         "2.0",
         "2.0",
         "2.0",
         "1.0",
         "1.0",
         "1.0",
         "1.0",
         "2.0",
         "9.0",
         "1.0",
         "1.0",
         "1.0",
         "1.0",
         "1.0",
         "1.0",
         "1.0",
         "1.0",
         "2.0",
         "9.0",
         "2.0",
         "2.0",
         "2.0",
         "1.0",
         "1.0",
         "4.0",
         "5.0",
         null,
         null,
         null,
         null,
         null,
         null,
         null,
         "1",
         "1",
         "2",
         "2",
         "2",
         "2",
         "3",
         null,
         null,
         null,
         "2",
         "1",
         "1",
         "2",
         "2",
         "2",
         "85",
         "2145",
         "3",
         "559",
         "1678"
        ],
        [
         "5",
         "09.0900342.05.01",
         "09.0900342.05",
         "9",
         "CIUDAD DE MEXICO",
         "2",
         "AZCAPOTZALCO",
         "1",
         "CIUDAD DE MEXICO",
         "900342",
         "16",
         "5",
         "1",
         "1",
         "1",
         "18112023",
         "1",
         null,
         null,
         null,
         "0",
         "5",
         "99",
         "5",
         "5",
         "5",
         "0",
         "0",
         "1",
         "1",
         "0",
         "1",
         "0",
         "0",
         "0",
         "0",
         "0",
         "0",
         "0",
         "2",
         "9",
         "9",
         "9",
         "9",
         "9",
         "9",
         "4",
         "9",
         "9",
         "9",
         "4",
         "9",
         "3",
         "9",
         "9",
         "9",
         "9",
         "4",
         "9",
         "9",
         "9",
         "9",
         "9",
         "9",
         "2",
         "1",
         "2",
         "1",
         "1",
         "2",
         "2",
         "5.0",
         "3.0",
         "1",
         "2",
         "2",
         "2",
         "2.0",
         "8.0",
         "2",
         "2",
         "2",
         "4.0",
         "4.0",
         "9",
         "1",
         "1",
         "2",
         "2.0",
         "9.0",
         "1",
         "1",
         "11.0",
         "ONCE PESOS",
         "2",
         "2.0",
         "9.0",
         "1",
         "1",
         "2.0",
         "8.0",
         "2",
         "2",
         "2",
         "2",
         "3.0",
         "7.0",
         "9",
         "9",
         "9",
         "9",
         null,
         null,
         "2",
         "2",
         "2",
         "2",
         "1",
         "2",
         "1",
         "2",
         "2.0",
         "2.0",
         "1.0",
         "2",
         null,
         null,
         null,
         null,
         null,
         null,
         null,
         null,
         null,
         null,
         null,
         null,
         null,
         null,
         null,
         null,
         null,
         null,
         null,
         null,
         null,
         null,
         null,
         null,
         null,
         null,
         null,
         null,
         null,
         null,
         null,
         null,
         null,
         null,
         null,
         null,
         null,
         null,
         null,
         null,
         null,
         null,
         null,
         null,
         null,
         null,
         null,
         "1.0",
         "1.0",
         "1.0",
         "1.0",
         "2.0",
         "2.0",
         "1.0",
         "1.0",
         "1.0",
         "1.0",
         "1.0",
         "3.0",
         "7.0",
         null,
         null,
         null,
         null,
         null,
         null,
         null,
         null,
         null,
         null,
         null,
         null,
         null,
         "1.0",
         "1.0",
         "1.0",
         "2.0",
         "9.0",
         null,
         null,
         null,
         null,
         null,
         null,
         null,
         null,
         null,
         null,
         null,
         null,
         null,
         null,
         null,
         null,
         null,
         null,
         null,
         null,
         null,
         null,
         null,
         null,
         null,
         null,
         null,
         null,
         null,
         null,
         "2.0",
         "1.0",
         "2.0",
         "1.0",
         "1.0",
         "3.0",
         "7.0",
         null,
         null,
         null,
         null,
         null,
         null,
         null,
         "1",
         "1",
         "2",
         "2",
         "2",
         "2",
         "3",
         null,
         null,
         null,
         "2",
         "2",
         "2",
         "2",
         "2",
         "2",
         "85",
         "2146",
         "3",
         "659",
         "659"
        ],
        [
         "6",
         "09.0900342.02.02",
         "09.0900342.02",
         "9",
         "CIUDAD DE MEXICO",
         "2",
         "AZCAPOTZALCO",
         "1",
         "CIUDAD DE MEXICO",
         "900342",
         "142",
         "2",
         "2",
         "2",
         "1",
         "7122023",
         "5",
         "1.0",
         null,
         null,
         "8",
         "8",
         "8",
         "8",
         "8",
         "8",
         "8",
         "0",
         "0",
         "0",
         "1",
         "1",
         "0",
         "0",
         "0",
         "1",
         "0",
         "0",
         "0",
         "2",
         "3",
         "2",
         "3",
         "3",
         "2",
         "3",
         "3",
         "3",
         "4",
         "9",
         "9",
         "3",
         "3",
         "4",
         "4",
         "4",
         "4",
         "4",
         "3",
         "3",
         "3",
         "3",
         "3",
         "3",
         "2",
         "2",
         "2",
         "2",
         "1",
         "2",
         "2",
         "3.0",
         "6.0",
         "1",
         "2",
         "1",
         "2",
         "2.0",
         "8.0",
         "2",
         "2",
         "2",
         "2.0",
         "8.0",
         "2",
         "1",
         "2",
         "2",
         "3.0",
         "7.0",
         "1",
         "1",
         "25.0",
         "VEINTICINCO PESOS",
         "1",
         "2.0",
         "9.0",
         "1",
         "1",
         "2.0",
         "8.0",
         "2",
         "2",
         "1",
         "2",
         "3.0",
         "7.0",
         "1",
         "1",
         "9",
         "1",
         "2.0",
         "9.0",
         "1",
         "2",
         "1",
         "2",
         "2",
         "2",
         "1",
         "2",
         "1.0",
         "2.0",
         "2.0",
         "2",
         "2.0",
         "1.0",
         "1.0",
         "1.0",
         "1.0",
         "1.0",
         "1.0",
         "1.0",
         "1.0",
         "1.0",
         "10.0",
         null,
         null,
         null,
         null,
         null,
         null,
         null,
         null,
         null,
         null,
         "2.0",
         "2.0",
         "2.0",
         "1.0",
         "1.0",
         "1.0",
         "1.0",
         "2.0",
         "2.0",
         "1.0",
         "2.0",
         "3.0",
         "7.0",
         null,
         null,
         null,
         null,
         null,
         null,
         null,
         null,
         null,
         null,
         null,
         null,
         null,
         null,
         null,
         null,
         null,
         null,
         null,
         null,
         null,
         null,
         null,
         null,
         null,
         null,
         null,
         null,
         null,
         null,
         null,
         null,
         null,
         null,
         null,
         null,
         null,
         null,
         null,
         "1.0",
         "1.0",
         "2.0",
         "2.0",
         "8.0",
         null,
         null,
         null,
         null,
         null,
         null,
         null,
         null,
         null,
         null,
         "1.0",
         "9.0",
         "1.0",
         "2.0",
         "2.0",
         "1.0",
         "1.0",
         "1.0",
         "2.0",
         "9.0",
         null,
         null,
         null,
         null,
         null,
         null,
         null,
         null,
         null,
         null,
         null,
         null,
         null,
         null,
         null,
         null,
         null,
         null,
         null,
         null,
         null,
         null,
         null,
         null,
         "1",
         "1",
         "2",
         "2",
         "2",
         "2",
         "3",
         null,
         null,
         null,
         "2",
         "2",
         "1",
         "2",
         "1",
         "2",
         "85",
         "2146",
         "3",
         "659",
         "1317"
        ]
       ],
       "shape": {
        "columns": 267,
        "rows": 5
       }
      },
      "text/html": [
       "<div>\n",
       "<style scoped>\n",
       "    .dataframe tbody tr th:only-of-type {\n",
       "        vertical-align: middle;\n",
       "    }\n",
       "\n",
       "    .dataframe tbody tr th {\n",
       "        vertical-align: top;\n",
       "    }\n",
       "\n",
       "    .dataframe thead th {\n",
       "        text-align: right;\n",
       "    }\n",
       "</style>\n",
       "<table border=\"1\" class=\"dataframe\">\n",
       "  <thead>\n",
       "    <tr style=\"text-align: right;\">\n",
       "      <th></th>\n",
       "      <th>ID_PER</th>\n",
       "      <th>ID_VIV</th>\n",
       "      <th>CVE_ENT</th>\n",
       "      <th>NOM_ENT</th>\n",
       "      <th>CVE_MUN</th>\n",
       "      <th>NOM_MUN</th>\n",
       "      <th>AREAM</th>\n",
       "      <th>NOM_AREAM</th>\n",
       "      <th>UPM</th>\n",
       "      <th>PRO_VIV</th>\n",
       "      <th>...</th>\n",
       "      <th>P10_1_2</th>\n",
       "      <th>P10_1_3</th>\n",
       "      <th>P10_1_4</th>\n",
       "      <th>P10_1_5</th>\n",
       "      <th>P10_1_6</th>\n",
       "      <th>EST_DIS</th>\n",
       "      <th>UPM_DIS</th>\n",
       "      <th>EST</th>\n",
       "      <th>FAC_VIV</th>\n",
       "      <th>FAC_P18</th>\n",
       "    </tr>\n",
       "  </thead>\n",
       "  <tbody>\n",
       "    <tr>\n",
       "      <th>1</th>\n",
       "      <td>09.0900342.01.01</td>\n",
       "      <td>09.0900342.01</td>\n",
       "      <td>9</td>\n",
       "      <td>CIUDAD DE MEXICO</td>\n",
       "      <td>2</td>\n",
       "      <td>AZCAPOTZALCO</td>\n",
       "      <td>1</td>\n",
       "      <td>CIUDAD DE MEXICO</td>\n",
       "      <td>900342</td>\n",
       "      <td>124</td>\n",
       "      <td>...</td>\n",
       "      <td>2</td>\n",
       "      <td>1</td>\n",
       "      <td>2</td>\n",
       "      <td>1</td>\n",
       "      <td>2</td>\n",
       "      <td>85</td>\n",
       "      <td>2146</td>\n",
       "      <td>3</td>\n",
       "      <td>659</td>\n",
       "      <td>1317</td>\n",
       "    </tr>\n",
       "    <tr>\n",
       "      <th>2</th>\n",
       "      <td>09.0900335.03.03</td>\n",
       "      <td>09.0900335.03</td>\n",
       "      <td>9</td>\n",
       "      <td>CIUDAD DE MEXICO</td>\n",
       "      <td>2</td>\n",
       "      <td>AZCAPOTZALCO</td>\n",
       "      <td>1</td>\n",
       "      <td>CIUDAD DE MEXICO</td>\n",
       "      <td>900335</td>\n",
       "      <td>55</td>\n",
       "      <td>...</td>\n",
       "      <td>2</td>\n",
       "      <td>2</td>\n",
       "      <td>2</td>\n",
       "      <td>2</td>\n",
       "      <td>2</td>\n",
       "      <td>85</td>\n",
       "      <td>2145</td>\n",
       "      <td>3</td>\n",
       "      <td>559</td>\n",
       "      <td>1678</td>\n",
       "    </tr>\n",
       "    <tr>\n",
       "      <th>3</th>\n",
       "      <td>09.0900335.04.01</td>\n",
       "      <td>09.0900335.04</td>\n",
       "      <td>9</td>\n",
       "      <td>CIUDAD DE MEXICO</td>\n",
       "      <td>2</td>\n",
       "      <td>AZCAPOTZALCO</td>\n",
       "      <td>1</td>\n",
       "      <td>CIUDAD DE MEXICO</td>\n",
       "      <td>900335</td>\n",
       "      <td>73</td>\n",
       "      <td>...</td>\n",
       "      <td>1</td>\n",
       "      <td>1</td>\n",
       "      <td>2</td>\n",
       "      <td>2</td>\n",
       "      <td>2</td>\n",
       "      <td>85</td>\n",
       "      <td>2145</td>\n",
       "      <td>3</td>\n",
       "      <td>559</td>\n",
       "      <td>1678</td>\n",
       "    </tr>\n",
       "    <tr>\n",
       "      <th>5</th>\n",
       "      <td>09.0900342.05.01</td>\n",
       "      <td>09.0900342.05</td>\n",
       "      <td>9</td>\n",
       "      <td>CIUDAD DE MEXICO</td>\n",
       "      <td>2</td>\n",
       "      <td>AZCAPOTZALCO</td>\n",
       "      <td>1</td>\n",
       "      <td>CIUDAD DE MEXICO</td>\n",
       "      <td>900342</td>\n",
       "      <td>16</td>\n",
       "      <td>...</td>\n",
       "      <td>2</td>\n",
       "      <td>2</td>\n",
       "      <td>2</td>\n",
       "      <td>2</td>\n",
       "      <td>2</td>\n",
       "      <td>85</td>\n",
       "      <td>2146</td>\n",
       "      <td>3</td>\n",
       "      <td>659</td>\n",
       "      <td>659</td>\n",
       "    </tr>\n",
       "    <tr>\n",
       "      <th>6</th>\n",
       "      <td>09.0900342.02.02</td>\n",
       "      <td>09.0900342.02</td>\n",
       "      <td>9</td>\n",
       "      <td>CIUDAD DE MEXICO</td>\n",
       "      <td>2</td>\n",
       "      <td>AZCAPOTZALCO</td>\n",
       "      <td>1</td>\n",
       "      <td>CIUDAD DE MEXICO</td>\n",
       "      <td>900342</td>\n",
       "      <td>142</td>\n",
       "      <td>...</td>\n",
       "      <td>2</td>\n",
       "      <td>1</td>\n",
       "      <td>2</td>\n",
       "      <td>1</td>\n",
       "      <td>2</td>\n",
       "      <td>85</td>\n",
       "      <td>2146</td>\n",
       "      <td>3</td>\n",
       "      <td>659</td>\n",
       "      <td>1317</td>\n",
       "    </tr>\n",
       "  </tbody>\n",
       "</table>\n",
       "<p>5 rows × 267 columns</p>\n",
       "</div>"
      ],
      "text/plain": [
       "             ID_PER         ID_VIV  CVE_ENT           NOM_ENT  CVE_MUN  \\\n",
       "1  09.0900342.01.01  09.0900342.01        9  CIUDAD DE MEXICO        2   \n",
       "2  09.0900335.03.03  09.0900335.03        9  CIUDAD DE MEXICO        2   \n",
       "3  09.0900335.04.01  09.0900335.04        9  CIUDAD DE MEXICO        2   \n",
       "5  09.0900342.05.01  09.0900342.05        9  CIUDAD DE MEXICO        2   \n",
       "6  09.0900342.02.02  09.0900342.02        9  CIUDAD DE MEXICO        2   \n",
       "\n",
       "        NOM_MUN  AREAM         NOM_AREAM     UPM  PRO_VIV  ...  P10_1_2  \\\n",
       "1  AZCAPOTZALCO      1  CIUDAD DE MEXICO  900342      124  ...        2   \n",
       "2  AZCAPOTZALCO      1  CIUDAD DE MEXICO  900335       55  ...        2   \n",
       "3  AZCAPOTZALCO      1  CIUDAD DE MEXICO  900335       73  ...        1   \n",
       "5  AZCAPOTZALCO      1  CIUDAD DE MEXICO  900342       16  ...        2   \n",
       "6  AZCAPOTZALCO      1  CIUDAD DE MEXICO  900342      142  ...        2   \n",
       "\n",
       "   P10_1_3  P10_1_4  P10_1_5  P10_1_6  EST_DIS  UPM_DIS  EST  FAC_VIV  FAC_P18  \n",
       "1        1        2        1        2       85     2146    3      659     1317  \n",
       "2        2        2        2        2       85     2145    3      559     1678  \n",
       "3        1        2        2        2       85     2145    3      559     1678  \n",
       "5        2        2        2        2       85     2146    3      659      659  \n",
       "6        1        2        1        2       85     2146    3      659     1317  \n",
       "\n",
       "[5 rows x 267 columns]"
      ]
     },
     "execution_count": 55,
     "metadata": {},
     "output_type": "execute_result"
    }
   ],
   "source": [
    "df.head()"
   ]
  },
  {
   "cell_type": "code",
   "execution_count": 56,
   "id": "7ee7fd41",
   "metadata": {},
   "outputs": [
    {
     "name": "stderr",
     "output_type": "stream",
     "text": [
      "/var/folders/4w/72wtbysj7kb189x1nn694p9h0000gn/T/ipykernel_42533/147350840.py:3: SettingWithCopyWarning:\n",
      "\n",
      "\n",
      "A value is trying to be set on a copy of a slice from a DataFrame\n",
      "\n",
      "See the caveats in the documentation: https://pandas.pydata.org/pandas-docs/stable/user_guide/indexing.html#returning-a-view-versus-a-copy\n",
      "\n"
     ]
    }
   ],
   "source": [
    "ndf = df[['NOM_ENT', 'P3_3_01']]\n",
    "ndf.loc[ndf['P3_3_01'] == 9, 'P3_3_01'] = pd.NA\n",
    "ndf.dropna(inplace=True, subset=['P3_3_01'])"
   ]
  },
  {
   "cell_type": "code",
   "execution_count": 57,
   "id": "97fd8b08",
   "metadata": {},
   "outputs": [],
   "source": [
    "nmeans = ndf.groupby('NOM_ENT').mean()\n",
    "nmeans['P3_3_01'] = nmeans['P3_3_01']"
   ]
  },
  {
   "cell_type": "code",
   "execution_count": 58,
   "id": "911e1774",
   "metadata": {},
   "outputs": [
    {
     "data": {
      "application/vnd.plotly.v1+json": {
       "config": {
        "plotlyServerURL": "https://plot.ly"
       },
       "data": [
        {
         "hovertemplate": "x=%{x}<br>P3_3_01=%{y}<extra></extra>",
         "legendgroup": "",
         "marker": {
          "color": "#636efa",
          "pattern": {
           "shape": ""
          }
         },
         "name": "",
         "orientation": "v",
         "showlegend": false,
         "textposition": "auto",
         "type": "bar",
         "x": [
          "AGUASCALIENTES",
          "BAJA CALIFORNIA",
          "BAJA CALIFORNIA SUR",
          "CAMPECHE",
          "CHIAPAS",
          "CHIHUAHUA",
          "CIUDAD DE MEXICO",
          "COAHUILA DE ZARAGOZA",
          "COLIMA",
          "DURANGO",
          "GUANAJUATO",
          "GUERRERO",
          "HIDALGO",
          "JALISCO",
          "MEXICO",
          "MICHOACAN DE OCAMPO",
          "MORELOS",
          "NAYARIT",
          "NUEVO LEON",
          "OAXACA",
          "PUEBLA",
          "QUERETARO",
          "QUINTANA ROO",
          "SAN LUIS POTOSI",
          "SINALOA",
          "SONORA",
          "TABASCO",
          "TAMAULIPAS",
          "TLAXCALA",
          "VERACRUZ DE IGNACIO DE LA LLAVE",
          "YUCATAN",
          "ZACATECAS"
         ],
         "xaxis": "x",
         "y": {
          "bdata": "WQOuWAOuA0ARs7l0qMEEQOMQs+xXqARAeKI4xjW8AkCAhUvq3O0AQDlGcv3DfQNASdUxm3WhA0Dbfhts3T0DQL5lNYGEeQNAm6u5mqu5AkCkndTm20gEQJiAjIYJyABAVVHk7JUsAkBS6+FfLiwDQNEaQC1cjANAN/kUYv9eAkAsCA1TODcCQIVKW7yROgFAwEG3a+WEA0AaVj3DqmcAQAKnLYMHKQNA3so+h9QEA0Du1PuLDfkDQOPAi8pRJgNADPhRZFjTAUBFQHw0IS8EQIJSln6glAFAdNI+SAbUA0Ce4Ct5z5YBQMacMWfMGQNA6g72W20MBEBp2RAHRWcCQA==",
          "dtype": "f8"
         },
         "yaxis": "y"
        }
       ],
       "layout": {
        "barmode": "relative",
        "legend": {
         "tracegroupgap": 0
        },
        "margin": {
         "t": 60
        },
        "template": {
         "data": {
          "bar": [
           {
            "error_x": {
             "color": "#2a3f5f"
            },
            "error_y": {
             "color": "#2a3f5f"
            },
            "marker": {
             "line": {
              "color": "#E5ECF6",
              "width": 0.5
             },
             "pattern": {
              "fillmode": "overlay",
              "size": 10,
              "solidity": 0.2
             }
            },
            "type": "bar"
           }
          ],
          "barpolar": [
           {
            "marker": {
             "line": {
              "color": "#E5ECF6",
              "width": 0.5
             },
             "pattern": {
              "fillmode": "overlay",
              "size": 10,
              "solidity": 0.2
             }
            },
            "type": "barpolar"
           }
          ],
          "carpet": [
           {
            "aaxis": {
             "endlinecolor": "#2a3f5f",
             "gridcolor": "white",
             "linecolor": "white",
             "minorgridcolor": "white",
             "startlinecolor": "#2a3f5f"
            },
            "baxis": {
             "endlinecolor": "#2a3f5f",
             "gridcolor": "white",
             "linecolor": "white",
             "minorgridcolor": "white",
             "startlinecolor": "#2a3f5f"
            },
            "type": "carpet"
           }
          ],
          "choropleth": [
           {
            "colorbar": {
             "outlinewidth": 0,
             "ticks": ""
            },
            "type": "choropleth"
           }
          ],
          "contour": [
           {
            "colorbar": {
             "outlinewidth": 0,
             "ticks": ""
            },
            "colorscale": [
             [
              0,
              "#0d0887"
             ],
             [
              0.1111111111111111,
              "#46039f"
             ],
             [
              0.2222222222222222,
              "#7201a8"
             ],
             [
              0.3333333333333333,
              "#9c179e"
             ],
             [
              0.4444444444444444,
              "#bd3786"
             ],
             [
              0.5555555555555556,
              "#d8576b"
             ],
             [
              0.6666666666666666,
              "#ed7953"
             ],
             [
              0.7777777777777778,
              "#fb9f3a"
             ],
             [
              0.8888888888888888,
              "#fdca26"
             ],
             [
              1,
              "#f0f921"
             ]
            ],
            "type": "contour"
           }
          ],
          "contourcarpet": [
           {
            "colorbar": {
             "outlinewidth": 0,
             "ticks": ""
            },
            "type": "contourcarpet"
           }
          ],
          "heatmap": [
           {
            "colorbar": {
             "outlinewidth": 0,
             "ticks": ""
            },
            "colorscale": [
             [
              0,
              "#0d0887"
             ],
             [
              0.1111111111111111,
              "#46039f"
             ],
             [
              0.2222222222222222,
              "#7201a8"
             ],
             [
              0.3333333333333333,
              "#9c179e"
             ],
             [
              0.4444444444444444,
              "#bd3786"
             ],
             [
              0.5555555555555556,
              "#d8576b"
             ],
             [
              0.6666666666666666,
              "#ed7953"
             ],
             [
              0.7777777777777778,
              "#fb9f3a"
             ],
             [
              0.8888888888888888,
              "#fdca26"
             ],
             [
              1,
              "#f0f921"
             ]
            ],
            "type": "heatmap"
           }
          ],
          "histogram": [
           {
            "marker": {
             "pattern": {
              "fillmode": "overlay",
              "size": 10,
              "solidity": 0.2
             }
            },
            "type": "histogram"
           }
          ],
          "histogram2d": [
           {
            "colorbar": {
             "outlinewidth": 0,
             "ticks": ""
            },
            "colorscale": [
             [
              0,
              "#0d0887"
             ],
             [
              0.1111111111111111,
              "#46039f"
             ],
             [
              0.2222222222222222,
              "#7201a8"
             ],
             [
              0.3333333333333333,
              "#9c179e"
             ],
             [
              0.4444444444444444,
              "#bd3786"
             ],
             [
              0.5555555555555556,
              "#d8576b"
             ],
             [
              0.6666666666666666,
              "#ed7953"
             ],
             [
              0.7777777777777778,
              "#fb9f3a"
             ],
             [
              0.8888888888888888,
              "#fdca26"
             ],
             [
              1,
              "#f0f921"
             ]
            ],
            "type": "histogram2d"
           }
          ],
          "histogram2dcontour": [
           {
            "colorbar": {
             "outlinewidth": 0,
             "ticks": ""
            },
            "colorscale": [
             [
              0,
              "#0d0887"
             ],
             [
              0.1111111111111111,
              "#46039f"
             ],
             [
              0.2222222222222222,
              "#7201a8"
             ],
             [
              0.3333333333333333,
              "#9c179e"
             ],
             [
              0.4444444444444444,
              "#bd3786"
             ],
             [
              0.5555555555555556,
              "#d8576b"
             ],
             [
              0.6666666666666666,
              "#ed7953"
             ],
             [
              0.7777777777777778,
              "#fb9f3a"
             ],
             [
              0.8888888888888888,
              "#fdca26"
             ],
             [
              1,
              "#f0f921"
             ]
            ],
            "type": "histogram2dcontour"
           }
          ],
          "mesh3d": [
           {
            "colorbar": {
             "outlinewidth": 0,
             "ticks": ""
            },
            "type": "mesh3d"
           }
          ],
          "parcoords": [
           {
            "line": {
             "colorbar": {
              "outlinewidth": 0,
              "ticks": ""
             }
            },
            "type": "parcoords"
           }
          ],
          "pie": [
           {
            "automargin": true,
            "type": "pie"
           }
          ],
          "scatter": [
           {
            "fillpattern": {
             "fillmode": "overlay",
             "size": 10,
             "solidity": 0.2
            },
            "type": "scatter"
           }
          ],
          "scatter3d": [
           {
            "line": {
             "colorbar": {
              "outlinewidth": 0,
              "ticks": ""
             }
            },
            "marker": {
             "colorbar": {
              "outlinewidth": 0,
              "ticks": ""
             }
            },
            "type": "scatter3d"
           }
          ],
          "scattercarpet": [
           {
            "marker": {
             "colorbar": {
              "outlinewidth": 0,
              "ticks": ""
             }
            },
            "type": "scattercarpet"
           }
          ],
          "scattergeo": [
           {
            "marker": {
             "colorbar": {
              "outlinewidth": 0,
              "ticks": ""
             }
            },
            "type": "scattergeo"
           }
          ],
          "scattergl": [
           {
            "marker": {
             "colorbar": {
              "outlinewidth": 0,
              "ticks": ""
             }
            },
            "type": "scattergl"
           }
          ],
          "scattermap": [
           {
            "marker": {
             "colorbar": {
              "outlinewidth": 0,
              "ticks": ""
             }
            },
            "type": "scattermap"
           }
          ],
          "scattermapbox": [
           {
            "marker": {
             "colorbar": {
              "outlinewidth": 0,
              "ticks": ""
             }
            },
            "type": "scattermapbox"
           }
          ],
          "scatterpolar": [
           {
            "marker": {
             "colorbar": {
              "outlinewidth": 0,
              "ticks": ""
             }
            },
            "type": "scatterpolar"
           }
          ],
          "scatterpolargl": [
           {
            "marker": {
             "colorbar": {
              "outlinewidth": 0,
              "ticks": ""
             }
            },
            "type": "scatterpolargl"
           }
          ],
          "scatterternary": [
           {
            "marker": {
             "colorbar": {
              "outlinewidth": 0,
              "ticks": ""
             }
            },
            "type": "scatterternary"
           }
          ],
          "surface": [
           {
            "colorbar": {
             "outlinewidth": 0,
             "ticks": ""
            },
            "colorscale": [
             [
              0,
              "#0d0887"
             ],
             [
              0.1111111111111111,
              "#46039f"
             ],
             [
              0.2222222222222222,
              "#7201a8"
             ],
             [
              0.3333333333333333,
              "#9c179e"
             ],
             [
              0.4444444444444444,
              "#bd3786"
             ],
             [
              0.5555555555555556,
              "#d8576b"
             ],
             [
              0.6666666666666666,
              "#ed7953"
             ],
             [
              0.7777777777777778,
              "#fb9f3a"
             ],
             [
              0.8888888888888888,
              "#fdca26"
             ],
             [
              1,
              "#f0f921"
             ]
            ],
            "type": "surface"
           }
          ],
          "table": [
           {
            "cells": {
             "fill": {
              "color": "#EBF0F8"
             },
             "line": {
              "color": "white"
             }
            },
            "header": {
             "fill": {
              "color": "#C8D4E3"
             },
             "line": {
              "color": "white"
             }
            },
            "type": "table"
           }
          ]
         },
         "layout": {
          "annotationdefaults": {
           "arrowcolor": "#2a3f5f",
           "arrowhead": 0,
           "arrowwidth": 1
          },
          "autotypenumbers": "strict",
          "coloraxis": {
           "colorbar": {
            "outlinewidth": 0,
            "ticks": ""
           }
          },
          "colorscale": {
           "diverging": [
            [
             0,
             "#8e0152"
            ],
            [
             0.1,
             "#c51b7d"
            ],
            [
             0.2,
             "#de77ae"
            ],
            [
             0.3,
             "#f1b6da"
            ],
            [
             0.4,
             "#fde0ef"
            ],
            [
             0.5,
             "#f7f7f7"
            ],
            [
             0.6,
             "#e6f5d0"
            ],
            [
             0.7,
             "#b8e186"
            ],
            [
             0.8,
             "#7fbc41"
            ],
            [
             0.9,
             "#4d9221"
            ],
            [
             1,
             "#276419"
            ]
           ],
           "sequential": [
            [
             0,
             "#0d0887"
            ],
            [
             0.1111111111111111,
             "#46039f"
            ],
            [
             0.2222222222222222,
             "#7201a8"
            ],
            [
             0.3333333333333333,
             "#9c179e"
            ],
            [
             0.4444444444444444,
             "#bd3786"
            ],
            [
             0.5555555555555556,
             "#d8576b"
            ],
            [
             0.6666666666666666,
             "#ed7953"
            ],
            [
             0.7777777777777778,
             "#fb9f3a"
            ],
            [
             0.8888888888888888,
             "#fdca26"
            ],
            [
             1,
             "#f0f921"
            ]
           ],
           "sequentialminus": [
            [
             0,
             "#0d0887"
            ],
            [
             0.1111111111111111,
             "#46039f"
            ],
            [
             0.2222222222222222,
             "#7201a8"
            ],
            [
             0.3333333333333333,
             "#9c179e"
            ],
            [
             0.4444444444444444,
             "#bd3786"
            ],
            [
             0.5555555555555556,
             "#d8576b"
            ],
            [
             0.6666666666666666,
             "#ed7953"
            ],
            [
             0.7777777777777778,
             "#fb9f3a"
            ],
            [
             0.8888888888888888,
             "#fdca26"
            ],
            [
             1,
             "#f0f921"
            ]
           ]
          },
          "colorway": [
           "#636efa",
           "#EF553B",
           "#00cc96",
           "#ab63fa",
           "#FFA15A",
           "#19d3f3",
           "#FF6692",
           "#B6E880",
           "#FF97FF",
           "#FECB52"
          ],
          "font": {
           "color": "#2a3f5f"
          },
          "geo": {
           "bgcolor": "white",
           "lakecolor": "white",
           "landcolor": "#E5ECF6",
           "showlakes": true,
           "showland": true,
           "subunitcolor": "white"
          },
          "hoverlabel": {
           "align": "left"
          },
          "hovermode": "closest",
          "mapbox": {
           "style": "light"
          },
          "paper_bgcolor": "white",
          "plot_bgcolor": "#E5ECF6",
          "polar": {
           "angularaxis": {
            "gridcolor": "white",
            "linecolor": "white",
            "ticks": ""
           },
           "bgcolor": "#E5ECF6",
           "radialaxis": {
            "gridcolor": "white",
            "linecolor": "white",
            "ticks": ""
           }
          },
          "scene": {
           "xaxis": {
            "backgroundcolor": "#E5ECF6",
            "gridcolor": "white",
            "gridwidth": 2,
            "linecolor": "white",
            "showbackground": true,
            "ticks": "",
            "zerolinecolor": "white"
           },
           "yaxis": {
            "backgroundcolor": "#E5ECF6",
            "gridcolor": "white",
            "gridwidth": 2,
            "linecolor": "white",
            "showbackground": true,
            "ticks": "",
            "zerolinecolor": "white"
           },
           "zaxis": {
            "backgroundcolor": "#E5ECF6",
            "gridcolor": "white",
            "gridwidth": 2,
            "linecolor": "white",
            "showbackground": true,
            "ticks": "",
            "zerolinecolor": "white"
           }
          },
          "shapedefaults": {
           "line": {
            "color": "#2a3f5f"
           }
          },
          "ternary": {
           "aaxis": {
            "gridcolor": "white",
            "linecolor": "white",
            "ticks": ""
           },
           "baxis": {
            "gridcolor": "white",
            "linecolor": "white",
            "ticks": ""
           },
           "bgcolor": "#E5ECF6",
           "caxis": {
            "gridcolor": "white",
            "linecolor": "white",
            "ticks": ""
           }
          },
          "title": {
           "x": 0.05
          },
          "xaxis": {
           "automargin": true,
           "gridcolor": "white",
           "linecolor": "white",
           "ticks": "",
           "title": {
            "standoff": 15
           },
           "zerolinecolor": "white",
           "zerolinewidth": 2
          },
          "yaxis": {
           "automargin": true,
           "gridcolor": "white",
           "linecolor": "white",
           "ticks": "",
           "title": {
            "standoff": 15
           },
           "zerolinecolor": "white",
           "zerolinewidth": 2
          }
         }
        },
        "xaxis": {
         "anchor": "y",
         "domain": [
          0,
          1
         ],
         "title": {
          "text": "x"
         }
        },
        "yaxis": {
         "anchor": "x",
         "domain": [
          0,
          1
         ],
         "title": {
          "text": "P3_3_01"
         }
        }
       }
      }
     },
     "metadata": {},
     "output_type": "display_data"
    }
   ],
   "source": [
    "fig = px.bar(nmeans.sort_index(ascending=True), x=nmeans.index, y='P3_3_01')\n",
    "fig.show()"
   ]
  }
 ],
 "metadata": {
  "kernelspec": {
   "display_name": "colmex",
   "language": "python",
   "name": "python3"
  },
  "language_info": {
   "codemirror_mode": {
    "name": "ipython",
    "version": 3
   },
   "file_extension": ".py",
   "mimetype": "text/x-python",
   "name": "python",
   "nbconvert_exporter": "python",
   "pygments_lexer": "ipython3",
   "version": "3.13.7"
  }
 },
 "nbformat": 4,
 "nbformat_minor": 5
}
